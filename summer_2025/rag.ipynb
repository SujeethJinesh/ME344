{
 "cells": [
  {
   "cell_type": "markdown",
   "metadata": {},
   "source": [
    "# LLM + RAG\n",
    "\n",
    "Now we're ready to create an LLM + RAG Pipeline! A large portion of this code was adapted from pixegami, specifically the following two videos:\n",
    "\n",
    "https://www.youtube.com/watch?v=tcqEUSNCn8I\n",
    "\n",
    "https://www.youtube.com/watch?v=2TJxpyO3ei4\n",
    "\n",
    "## Importing Packages\n",
    "We will first start by importing all of the relevant packages!"
   ]
  },
  {
   "cell_type": "code",
   "execution_count": 1,
   "metadata": {},
   "outputs": [],
   "source": [
    "import argparse\n",
    "import os\n",
    "import shutil\n",
    "import chromadb\n",
    "\n",
    "from langchain_community.document_loaders.csv_loader import CSVLoader\n",
    "from langchain_text_splitters import RecursiveCharacterTextSplitter\n",
    "from langchain.schema.document import Document\n",
    "from langchain.evaluation import load_evaluator\n",
    "from typing import List, Dict, Any\n",
    "\n",
    "from langchain_chroma import Chroma\n",
    "import chromadb.utils.embedding_functions as embedding_functions\n",
    "\n",
    "chroma_path=\"chroma\""
   ]
  },
  {
   "cell_type": "markdown",
   "metadata": {},
   "source": [
    "## Loading our Cleaned Data\n",
    "\n",
    "We'll load our cleaned data in the data folder. In our case, we'll be loading in slang data from urban dictionary as a CSV. We encourage you to check out the data to get a sense of how it's laid out."
   ]
  },
  {
   "cell_type": "code",
   "execution_count": 2,
   "metadata": {},
   "outputs": [],
   "source": [
    "loader = CSVLoader(file_path='./data/cleaned_slang_data.csv')\n",
    "slang_document = loader.load()"
   ]
  },
  {
   "cell_type": "markdown",
   "metadata": {},
   "source": [
    "Now that we've loaded in the data, we can take a quick peek at it to see what we're working with!"
   ]
  },
  {
   "cell_type": "code",
   "execution_count": 3,
   "metadata": {},
   "outputs": [
    {
     "name": "stdout",
     "output_type": "stream",
     "text": [
      "page_content='word: Janky\n",
      "definition: Undesirable; less-than optimum.' metadata={'source': './data/cleaned_slang_data.csv', 'row': 0}\n",
      "<class 'list'>\n",
      "<class 'langchain_core.documents.base.Document'>\n"
     ]
    },
    {
     "data": {
      "text/plain": [
       "2580653"
      ]
     },
     "execution_count": 3,
     "metadata": {},
     "output_type": "execute_result"
    }
   ],
   "source": [
    "print(slang_document[0])\n",
    "print(type(slang_document))\n",
    "print(type(slang_document[0]))\n",
    "len(slang_document)\n"
   ]
  },
  {
   "cell_type": "markdown",
   "metadata": {},
   "source": [
    "We can see that we have over 2.5 Million Slang items! So we're working with quite a large amount of data!\n",
    "\n",
    "## Chunking our data\n",
    "\n",
    "Now let's go ahead and chunk our data. Remember that this is cutting up the data into manageable chunks so we can fit it into our vector database (cheatsheet for the LLM)!\n",
    "\n",
    "Since we're processing many elements, this may take a minute!"
   ]
  },
  {
   "cell_type": "code",
   "execution_count": 4,
   "metadata": {},
   "outputs": [],
   "source": [
    "# Only necessary if we have too much data to add to the context.\n",
    "def split_documents(documents: list[Document]):\n",
    "  text_splitter = RecursiveCharacterTextSplitter(\n",
    "    chunk_size=800,\n",
    "    chunk_overlap=80,\n",
    "    length_function=len,\n",
    "    is_separator_regex=False,\n",
    "  )\n",
    "  return text_splitter.split_documents(documents)\n",
    "\n",
    "chunks = split_documents(slang_document)"
   ]
  },
  {
   "cell_type": "markdown",
   "metadata": {},
   "source": [
    "Let's see what the chunks look like. They should be pretty similar but it does definitely help for some words that have very long definitions!"
   ]
  },
  {
   "cell_type": "code",
   "execution_count": 5,
   "metadata": {},
   "outputs": [
    {
     "name": "stdout",
     "output_type": "stream",
     "text": [
      "page_content='word: Janky\n",
      "definition: Undesirable; less-than optimum.' metadata={'source': './data/cleaned_slang_data.csv', 'row': 0}\n",
      "2706525\n"
     ]
    }
   ],
   "source": [
    "print(chunks[0])\n",
    "print(len(chunks))"
   ]
  },
  {
   "cell_type": "markdown",
   "metadata": {},
   "source": [
    "## Creating Our Embedding Function\n",
    "\n",
    "Let's start by creating our embedding function. In our case, we want to use a specialized embedding model so it's fast and efficient to get embeddings. Since this embedding model is different from our current model, we need to pull it using `ollama pull nomic-embed-text`."
   ]
  },
  {
   "cell_type": "code",
   "execution_count": 6,
   "metadata": {},
   "outputs": [],
   "source": [
    "def get_embedding_function():\n",
    "  embeddings = embedding_functions.OllamaEmbeddingFunction(\n",
    "      url=\"http://localhost:11434/api/embeddings\",\n",
    "      model_name=\"nomic-embed-text\",\n",
    "  )\n",
    "  \n",
    "  return embeddings\n"
   ]
  },
  {
   "cell_type": "markdown",
   "metadata": {},
   "source": [
    "Let's see what an embedding looks like for reference with our sample chunk!"
   ]
  },
  {
   "cell_type": "code",
   "execution_count": 7,
   "metadata": {},
   "outputs": [
    {
     "name": "stdout",
     "output_type": "stream",
     "text": [
      "[array([ 6.40811622e-01,  7.72351563e-01, -3.19940400e+00, -8.55043650e-01,\n",
      "        3.97146285e-01,  1.19626164e+00, -6.61623418e-01, -2.91547894e-01,\n",
      "       -6.05375804e-02,  1.68385841e-02, -5.78635812e-01,  1.05480552e+00,\n",
      "        1.58162522e+00,  1.44126129e+00, -1.82115376e-01, -1.23256886e+00,\n",
      "        1.08977544e+00, -6.58981979e-01,  1.10475874e+00,  4.84398939e-02,\n",
      "        7.75346994e-01, -5.62737167e-01,  8.28783929e-01, -3.86232316e-01,\n",
      "        1.06826174e+00, -1.19985424e-01,  6.36491120e-01, -1.86059564e-01,\n",
      "        6.89530134e-01,  1.11838269e+00, -3.04865837e-01, -3.87093574e-02,\n",
      "       -3.71003091e-01, -9.85167250e-02, -1.99460161e+00, -5.66446304e-01,\n",
      "        7.54378855e-01,  2.36689553e-01,  2.77079225e-01, -9.25087571e-01,\n",
      "       -4.70041811e-01, -2.03075811e-01,  1.39579701e+00, -1.37997413e+00,\n",
      "       -2.65024185e-01,  1.86201707e-02,  3.67940933e-01,  8.55515778e-01,\n",
      "        8.92761469e-01, -6.19878054e-01,  8.07923734e-01, -1.41326535e+00,\n",
      "        8.92637908e-01, -8.99913549e-01,  1.75614583e+00,  4.53907736e-02,\n",
      "        1.94303989e-01,  3.51513535e-01, -1.04760885e+00,  8.24093148e-02,\n",
      "        1.10371554e+00,  2.10426450e-01, -1.52011788e+00,  2.82253337e+00,\n",
      "        6.72522783e-01, -7.12079406e-01, -7.52139688e-01,  8.47632408e-01,\n",
      "        3.40843767e-01, -1.27805066e+00,  8.37103605e-01, -1.77529454e-01,\n",
      "        1.14286125e-01, -7.00893760e-01, -1.14412296e+00,  5.14446139e-01,\n",
      "       -1.10104036e+00,  1.47966236e-01,  1.99179992e-01, -6.39308766e-02,\n",
      "        4.13157374e-01, -4.78896648e-01,  1.79108739e-01, -2.19322473e-01,\n",
      "        1.44550204e+00, -1.79569706e-01,  7.10149765e-01, -2.59899616e-01,\n",
      "       -1.57366306e-01,  4.20636386e-01, -8.88699591e-01,  8.97862241e-02,\n",
      "       -5.51196694e-01, -8.71393085e-02, -1.93149328e+00,  7.48434663e-01,\n",
      "        5.49219251e-01, -7.34313071e-01, -7.52177835e-01, -1.34401536e+00,\n",
      "        6.19634330e-01, -2.93042809e-01, -2.87091807e-02, -1.55821264e-01,\n",
      "       -2.37345487e-01,  8.48384023e-01, -3.39433700e-02, -1.36994451e-01,\n",
      "        8.06837007e-02, -2.03984126e-01,  1.03520401e-01,  1.52260590e+00,\n",
      "       -6.54560089e-01, -1.44348502e+00,  1.33266366e+00, -5.70212960e-01,\n",
      "        8.07008803e-01,  3.18198234e-01, -1.71468973e-01,  1.05553615e+00,\n",
      "        3.20426255e-01,  2.96480060e-01, -2.00890288e-01,  1.46247637e+00,\n",
      "        3.15851659e-01,  1.31262350e+00, -1.43930197e+00,  1.19193709e+00,\n",
      "        1.03497756e+00, -6.42643332e-01, -8.82100940e-01, -8.37890431e-02,\n",
      "        4.65465114e-02, -8.03777754e-01, -9.02122259e-03,  1.26773262e+00,\n",
      "       -4.82443124e-01, -4.89503026e-01,  7.91374370e-02,  4.00807083e-01,\n",
      "        1.70921063e+00, -4.04901206e-01,  1.06670618e-01,  3.61021519e-01,\n",
      "       -2.87869424e-01, -6.47326291e-01,  4.26339835e-01, -4.32939678e-01,\n",
      "       -8.82614851e-01,  4.82798904e-01, -4.80517745e-01,  2.73551077e-01,\n",
      "       -1.50981843e-01, -9.18234766e-01, -1.14686638e-01, -3.46349552e-03,\n",
      "        8.90889645e-01,  2.51464218e-01, -5.78188822e-02, -1.03289223e+00,\n",
      "        5.97895682e-01,  1.08459212e-01, -1.01146150e+00,  6.84498131e-01,\n",
      "       -9.33484316e-01, -7.20343649e-01, -1.28156304e-01,  1.04472148e+00,\n",
      "       -4.11511183e-01,  6.01448357e-01, -9.70438272e-02, -7.30216384e-01,\n",
      "        3.43709528e-01,  3.16624612e-01,  5.62871933e-01, -3.30674231e-01,\n",
      "        1.26516414e+00, -7.21218169e-01, -5.59908628e-01, -1.74490142e+00,\n",
      "        5.26613533e-01, -1.02341020e+00,  8.57205510e-01,  2.51846492e-01,\n",
      "       -6.84657335e-01, -4.65980440e-01,  7.86202312e-01, -3.89880002e-01,\n",
      "       -5.13379872e-01, -1.33143055e+00,  9.29931760e-01,  3.05860043e-01,\n",
      "       -2.03371525e-01, -1.19513214e+00, -1.14504600e+00, -9.39840198e-01,\n",
      "        1.33688998e+00,  3.31276029e-01,  1.10657728e+00, -1.19909596e+00,\n",
      "       -2.60792911e-01, -9.72373307e-01,  1.13777161e-01,  3.89652431e-01,\n",
      "       -1.77790308e+00, -2.44022831e-01, -1.01224646e-01,  1.01286840e+00,\n",
      "       -3.35823238e-01,  2.53963798e-01,  1.43928993e+00, -5.22716105e-01,\n",
      "       -2.75933146e-01, -4.81704921e-01,  3.74291122e-01, -1.60618842e+00,\n",
      "        1.16379631e+00,  3.46981704e-01, -1.27602649e+00,  3.08497548e-01,\n",
      "        8.52140009e-01, -3.43926907e-01,  3.81535351e-01,  3.70747149e-01,\n",
      "        1.26564348e+00, -6.03055298e-01, -5.23170292e-01, -4.63068113e-02,\n",
      "       -1.22881985e+00,  1.52801394e-01, -2.71596998e-01, -1.73687267e+00,\n",
      "        6.05562150e-01,  1.25616777e+00, -3.06977928e-01,  6.02918684e-01,\n",
      "        1.34839010e+00,  7.77419567e-01,  6.85279369e-01, -5.21811992e-02,\n",
      "       -5.41911721e-01,  9.01096761e-01, -9.56579566e-01, -7.29188085e-01,\n",
      "       -7.96761990e-01, -2.31517762e-01,  2.80979961e-01, -6.44226909e-01,\n",
      "        9.70251113e-02,  2.96803504e-01, -6.13415658e-01,  1.60377786e-01,\n",
      "        3.78165208e-02,  2.30807245e-01,  8.54023159e-01, -3.29087138e-01,\n",
      "       -1.09137881e+00,  9.25244331e-01, -6.05956793e-01, -1.97453037e-01,\n",
      "        9.46452379e-01, -9.73449051e-01,  4.47224945e-01, -3.34534109e-01,\n",
      "        5.10913491e-01, -1.29118240e+00, -5.42993307e-01, -3.20671052e-02,\n",
      "        5.10203004e-01,  2.32303321e-01,  9.89390239e-02,  5.06914556e-01,\n",
      "        7.47697651e-01,  3.45680594e-01,  8.28618467e-01, -5.50955415e-01,\n",
      "       -1.45329088e-01, -3.47683817e-01, -5.51815510e-01,  4.52661455e-01,\n",
      "        3.09502780e-01,  4.85821143e-02, -1.36058843e+00,  7.34678805e-01,\n",
      "       -6.86622381e-01,  1.01496816e+00,  1.04865885e+00,  1.13314247e+00,\n",
      "        5.81191778e-01,  2.27613561e-02, -1.15815425e+00, -1.00772893e+00,\n",
      "       -7.50518203e-01,  4.88824993e-01, -1.13944426e-01,  1.19938761e-01,\n",
      "        2.54526556e-01, -7.11995661e-01,  5.59228539e-01, -1.39094651e+00,\n",
      "       -1.10060342e-01,  8.67768943e-01,  9.30166900e-01,  6.32207513e-01,\n",
      "       -6.94217026e-01, -6.77863538e-01,  1.47893518e-01, -1.20436978e+00,\n",
      "        2.85200536e-01, -5.02905250e-01,  2.52127089e-02,  6.90694675e-02,\n",
      "       -8.13292861e-01,  1.90578592e+00, -7.47828722e-01,  5.87966800e-01,\n",
      "        4.41923290e-01,  2.86608934e-01,  1.69084358e+00, -2.00530365e-02,\n",
      "        2.14731783e-01, -1.71281882e-02, -1.20291114e+00, -5.78821063e-01,\n",
      "       -5.90253994e-02,  7.57884145e-01, -3.08602065e-01,  6.30289495e-01,\n",
      "       -8.81208420e-01,  7.34713435e-01, -1.84915587e-01,  1.19343734e+00,\n",
      "        4.77686644e-01, -1.28933251e+00, -1.33876264e+00, -1.27815163e+00,\n",
      "        9.06491399e-01,  2.80413747e-01,  4.89536226e-01,  4.97502297e-01,\n",
      "        5.44874907e-01, -7.48514608e-02,  1.10073924e-01, -9.28665176e-02,\n",
      "       -3.56698394e-01,  4.37859237e-01, -1.34526432e+00, -7.75861979e-01,\n",
      "        7.59047568e-01,  5.32411814e-01, -7.28165150e-01, -4.30757672e-01,\n",
      "       -3.19972970e-02, -5.56189775e-01, -3.83279659e-02,  3.75047803e-01,\n",
      "        6.73629165e-01,  2.81334698e-01,  1.52317271e-01,  1.13798968e-01,\n",
      "        8.90343249e-01,  1.64981827e-01,  2.68259913e-01, -1.15878379e+00,\n",
      "        5.60034335e-01,  7.05988765e-01,  1.03523946e+00,  9.56115723e-01,\n",
      "       -8.59774649e-03,  3.99369776e-01, -5.60890555e-01, -6.36934265e-02,\n",
      "       -2.12896429e-02,  1.13499403e+00, -1.87482640e-01,  6.07382298e-01,\n",
      "       -1.81409192e+00, -4.29386288e-01, -4.16033044e-02,  9.07414973e-01,\n",
      "        1.54618788e+00, -1.80072415e+00, -2.90320277e-01,  4.32950020e-01,\n",
      "       -1.04166545e-01,  1.07770729e+00,  7.34615102e-02, -6.82603598e-01,\n",
      "        3.08636010e-01,  3.04765075e-01, -9.33725834e-02,  1.79008916e-01,\n",
      "       -8.25393796e-01,  4.17598993e-01, -3.09427619e-01,  1.37899852e+00,\n",
      "       -1.00639075e-01,  2.86671996e-01,  3.55365068e-01,  6.57757044e-01,\n",
      "        1.42333940e-01, -1.99916974e-01,  8.06316018e-01,  1.85454428e-01,\n",
      "       -2.70450741e-01,  4.77017879e-01, -1.27939835e-01, -6.51832223e-01,\n",
      "       -6.77825332e-01, -2.51826718e-02, -2.51390219e-01,  1.19370893e-02,\n",
      "        2.98144996e-01, -9.58579719e-01, -1.23269752e-01,  5.34917653e-01,\n",
      "        1.67063785e+00,  2.09428549e-01, -5.03699005e-01,  4.74287599e-01,\n",
      "        4.64701980e-01,  1.01362395e+00, -1.36368287e+00, -4.12883371e-01,\n",
      "       -1.75035551e-01,  8.03957045e-01,  5.38723230e-01,  3.92834932e-01,\n",
      "        1.42838582e-01, -1.12993157e+00, -2.99938768e-01,  6.35216296e-01,\n",
      "       -8.08225423e-02,  1.36469364e-01,  1.42094350e+00, -2.57058889e-01,\n",
      "        4.02700379e-02,  4.34591562e-01,  2.73434579e-01,  1.55477810e+00,\n",
      "        2.57825613e-01, -1.56676030e+00,  2.07241476e-01,  2.82968551e-01,\n",
      "       -3.54184687e-01,  8.87323081e-01,  1.42281246e+00, -1.59167838e+00,\n",
      "       -1.06350017e+00,  6.88431978e-01, -4.69099641e-01,  3.86391789e-01,\n",
      "        5.10887086e-01,  1.48555934e-01,  6.08903229e-01, -6.06308222e-01,\n",
      "       -6.07681870e-01,  5.80749586e-02,  4.41010892e-02, -5.48438489e-01,\n",
      "        5.95972613e-02,  7.89069891e-01, -1.55947351e+00,  5.65117419e-01,\n",
      "       -1.19590953e-01,  3.53024721e-01,  2.78859913e-01, -6.53313160e-01,\n",
      "        1.09170616e-01,  1.25088859e+00, -9.68897700e-01,  1.74153650e+00,\n",
      "        6.67904317e-02,  2.01727584e-01, -4.93242115e-01,  4.04013515e-01,\n",
      "        1.28356621e-01,  3.05645317e-01,  3.05266559e-01,  2.02892923e+00,\n",
      "        3.49208564e-01, -1.08920717e+00,  1.04491904e-01, -1.39928663e+00,\n",
      "       -2.68020391e-01, -1.48256272e-01,  1.82768211e-01,  3.03106338e-01,\n",
      "        5.45037806e-01,  9.66460407e-02,  1.08528137e+00,  6.74049497e-01,\n",
      "       -6.77174807e-01, -1.23927128e+00,  4.39621806e-01,  6.92331940e-02,\n",
      "        5.09647056e-02,  9.00513649e-01, -7.85149693e-01,  6.39035881e-01,\n",
      "        2.16067303e-02,  3.30874085e-01, -3.56917650e-01,  2.55577624e-01,\n",
      "        4.98407066e-01, -5.78872979e-01,  1.05932212e+00, -1.34870803e+00,\n",
      "       -1.32064903e+00,  6.67145789e-01,  6.77988380e-02,  1.01433301e+00,\n",
      "        7.27806807e-01,  4.22833920e-01,  9.52307165e-01, -6.60207272e-01,\n",
      "        2.55417913e-01, -4.70438957e-01, -9.45468962e-01,  6.76185608e-01,\n",
      "        7.55029261e-01,  4.61082876e-01, -1.19257748e+00, -2.76408017e-01,\n",
      "       -1.00957620e+00,  6.25798881e-01, -7.11827159e-01, -4.44358885e-01,\n",
      "       -6.64901316e-01, -8.25411558e-01,  7.34886885e-01, -5.84550202e-01,\n",
      "       -9.22769189e-01, -9.32859659e-01, -7.12679863e-01, -5.16019225e-01,\n",
      "       -1.43453348e+00,  8.85946989e-01, -7.03181326e-01, -5.55183113e-01,\n",
      "       -7.77394533e-01,  2.11117238e-01, -4.97452736e-01, -7.76902288e-02,\n",
      "        1.06625128e+00, -6.70129806e-02, -7.49829650e-01,  1.98825181e-01,\n",
      "       -9.16936636e-01, -1.14930487e+00,  5.99381208e-01, -9.36299801e-01,\n",
      "        1.38914883e-01, -4.56349254e-01,  1.15947795e+00, -1.01599848e+00,\n",
      "       -6.72037363e-01,  7.01926649e-01, -9.28255975e-01, -6.71451926e-01,\n",
      "        7.51128793e-01,  1.01247239e+00,  1.13316345e+00,  8.27807903e-01,\n",
      "        2.85532296e-01, -2.16868952e-01,  1.76068798e-01, -3.99795145e-01,\n",
      "       -6.20966196e-01,  9.85505581e-01, -1.07479274e+00, -7.21823499e-02,\n",
      "        1.04913878e+00, -5.10554731e-01, -6.35459960e-01,  5.72334051e-01,\n",
      "       -3.70069712e-01,  3.23867023e-01, -1.04615784e+00,  2.24722326e-01,\n",
      "        4.73672360e-01, -6.55799627e-01,  3.25127244e-01,  1.25942171e-01,\n",
      "       -7.67625093e-01,  1.01982248e+00, -4.04864192e-01,  4.11206454e-01,\n",
      "        3.29562962e-01, -5.61109364e-01,  2.40582302e-01,  2.98406452e-01,\n",
      "       -3.02197903e-01, -4.57820773e-01, -1.95522308e-01,  1.00312388e+00,\n",
      "       -8.68729830e-01, -1.28288269e+00, -1.23094499e+00, -1.22978166e-01,\n",
      "       -7.21776187e-01,  3.50338668e-01, -1.60705388e-01, -3.70593704e-02,\n",
      "        3.15898746e-01,  1.80646539e+00,  6.13751113e-01,  1.43203330e+00,\n",
      "       -1.14110327e+00, -4.55809981e-01,  5.67147970e-01,  3.31467748e-01,\n",
      "        1.01879704e+00, -2.28325248e-01,  8.36644292e-01,  7.15640664e-01,\n",
      "        4.80142832e-01, -2.85354525e-01, -5.85528433e-01, -1.15710831e+00,\n",
      "       -1.37023151e+00,  2.49527514e-01,  1.63036633e+00,  2.40343437e-01,\n",
      "        6.99287236e-01,  3.44851077e-01,  3.52578349e-02, -8.55978608e-01,\n",
      "       -2.30801553e-01,  1.17156482e+00, -5.65265536e-01,  4.62118000e-01,\n",
      "       -1.32324576e+00, -1.25183499e+00, -1.73305917e+00,  5.51505864e-01,\n",
      "       -1.32099402e+00,  3.52273107e-01,  5.16616464e-01,  5.97923577e-01,\n",
      "        6.05202377e-01, -9.14142504e-02,  1.04903653e-01,  1.72444001e-01,\n",
      "       -2.10392594e-01, -2.34127507e-01,  4.47333366e-01,  1.25613177e+00,\n",
      "        1.40750253e+00, -5.24791479e-01,  3.35908234e-01,  1.27741432e+00,\n",
      "        1.00140965e+00, -1.54725760e-01,  4.78084266e-01,  2.29263932e-01,\n",
      "        8.02309990e-01, -3.94238025e-01,  2.92722043e-03, -1.39233828e+00,\n",
      "       -2.30210006e-01,  5.33246398e-01,  2.02154443e-01,  6.07420504e-01,\n",
      "        2.87939250e-01, -3.99752617e-01,  4.33427691e-01,  4.43304360e-01,\n",
      "       -1.96537817e+00, -1.01550877e+00,  8.10695767e-01, -3.55255872e-01,\n",
      "       -1.59306228e-01, -1.02894366e+00, -3.46829593e-01,  1.10758483e+00,\n",
      "        3.49981368e-01,  1.81069493e-01,  3.29617858e-02, -1.44202292e+00,\n",
      "        4.10447925e-01, -5.12095690e-01,  5.04358470e-01, -1.84247419e-02,\n",
      "       -7.32407391e-01, -1.86872825e-01,  1.22212791e+00, -5.67105293e-01,\n",
      "        1.47665277e-01, -1.03356957e+00, -3.06942672e-01,  5.41228890e-01,\n",
      "        1.40843558e+00, -3.23221803e-01, -6.31732166e-01, -2.73693740e-01,\n",
      "       -6.57781661e-01,  2.23707750e-01, -4.75932240e-01,  7.05188632e-01,\n",
      "       -2.41788626e-01,  7.63006985e-01, -2.89987862e-01,  1.49855471e+00,\n",
      "       -1.10552061e+00, -9.06632468e-03, -1.56357884e-01,  1.19921279e+00,\n",
      "       -9.84812140e-01,  1.07064807e+00,  9.83383834e-01,  2.38658398e-01,\n",
      "       -1.22855920e-02,  1.11887896e+00, -4.23744589e-01,  2.05604315e-01,\n",
      "        2.16510057e-01, -6.92609191e-01, -6.69800699e-01,  7.03865439e-02,\n",
      "        1.48442101e+00, -5.71995005e-02, -1.18117547e+00, -1.46041965e+00,\n",
      "       -7.51370907e-01,  2.38215074e-01, -6.25898167e-02, -5.15013337e-01,\n",
      "        6.39378726e-01, -1.27353001e+00, -5.81866503e-01, -2.23550901e-01,\n",
      "       -2.36454234e-01,  1.93652022e+00, -1.26582146e+00, -1.71405107e-01,\n",
      "       -1.01536798e+00,  8.24569583e-01, -8.54392409e-01, -1.94133278e-02,\n",
      "        3.02964479e-01,  2.50141352e-01, -5.06098628e-01,  2.84467995e-01,\n",
      "        4.73307550e-01,  2.54762679e-01, -9.90737677e-01,  4.03508544e-01,\n",
      "        1.42761111e-01,  1.45221902e-02, -2.08618104e-01,  2.22530395e-01,\n",
      "       -1.46165818e-01, -1.68334335e-01, -4.94138747e-02,  3.74502003e-01,\n",
      "       -6.14519358e-01,  9.06603262e-02,  1.21230936e+00, -1.73732921e-01,\n",
      "        8.72810557e-02, -8.15534115e-01, -2.92509854e-01, -6.67659044e-02,\n",
      "        4.88721222e-01, -3.04114223e-01, -1.44938004e+00, -1.57260847e+00])]\n"
     ]
    }
   ],
   "source": [
    "embedding_function = get_embedding_function()\n",
    "\n",
    "chunk = chunks[0].page_content\n",
    "\n",
    "print(embedding_function([chunk]))\n",
    "\n",
    "# print(f'Vector for chunk \"{chunk}\" is: {vector}')"
   ]
  },
  {
   "cell_type": "markdown",
   "metadata": {},
   "source": [
    "But what does this embedding actually mean? How do we interpret this vector?\n",
    "\n",
    "Remember that this number put in an arbitrary space. It's most useful to think of it as a concept, and if we compare it to other concepts, then the vector difference between the two concepts shows us how similar the two objects are.\n",
    "\n",
    "note: the closer to 0 the evaluation is, the closer the two concepts are!\n",
    "\n",
    "To solidify this concept, let's start by comparing our chunk 0 to various other concepts. Feel free to experiment around as well!"
   ]
  },
  {
   "cell_type": "code",
   "execution_count": 8,
   "metadata": {},
   "outputs": [
    {
     "name": "stdout",
     "output_type": "stream",
     "text": [
      "{'score': 0.3030303030303031}\n",
      "{'score': 0.0}\n",
      "{'score': 0.42781385281385287}\n",
      "{'score': 0.5316017316017316}\n"
     ]
    }
   ],
   "source": [
    "evaluator = load_evaluator(\"pairwise_string_distance\")\n",
    "\n",
    "print(evaluator.evaluate_string_pairs(prediction=\"Janky\", prediction_b=chunk)) # This should be somewhat close to 0.0\n",
    "\n",
    "print(evaluator.evaluate_string_pairs(prediction=chunk, prediction_b=chunk)) # This should be 0.0 or very close to it\n",
    "\n",
    "print(evaluator.evaluate_string_pairs(prediction=\"pristine\", prediction_b=chunk)) # This should be further from 0.0\n",
    "\n",
    "print(evaluator.evaluate_string_pairs(prediction=\"brother\", prediction_b=chunk)) # This should be even further from 0.0"
   ]
  },
  {
   "cell_type": "markdown",
   "metadata": {},
   "source": [
    "## Creating the Vector Database\n",
    "\n",
    "Now we want to start creating our vector database. This is our LLM's cheatsheet of information that it will use in the future to respond to user queries.\n",
    "\n",
    "We will do this by using [Chromadb](https://www.trychroma.com/), which is a vector database!\n",
    "\n",
    "Let's first set up some variables and clear out any existing items in it (you only need to do this if you're doing a fresh run)."
   ]
  },
  {
   "cell_type": "code",
   "execution_count": 14,
   "metadata": {},
   "outputs": [],
   "source": [
    "# Clear the database for our initial run in case it exists.\n",
    "# if os.path.exists(chroma_path):\n",
    "#   shutil.rmtree(chroma_path)"
   ]
  },
  {
   "cell_type": "markdown",
   "metadata": {},
   "source": [
    "Next, let's start up our chroma db! For this you need to run this command in the terminal!\n",
    "\n",
    "`chroma run --host localhost --port 8000 --path ./chroma`"
   ]
  },
  {
   "cell_type": "code",
   "execution_count": 15,
   "metadata": {},
   "outputs": [],
   "source": [
    "# Initialize our chromadb client locally with special port number so we don't conflict with other things running\n",
    "client = chromadb.HttpClient(host='localhost', port=8000)\n",
    "collection_name = \"llm_rag_collection\"\n",
    "\n",
    "collection = client.get_or_create_collection(name=collection_name, embedding_function=get_embedding_function())"
   ]
  },
  {
   "cell_type": "markdown",
   "metadata": {},
   "source": [
    "Next Let's actually add our chunks to chroma! We'll start by calculating chunk ids so we can update our data at any time. It takes ~8 seconds for 500 records to be embedded and placed into our database. Since our dataset contains over 2.7 million chunks, this would take ~12 hours! Instead, we'll only add 500 documents, but you can feel free to adjust this number as you deem fit!"
   ]
  },
  {
   "cell_type": "code",
   "execution_count": 16,
   "metadata": {},
   "outputs": [
    {
     "name": "stdout",
     "output_type": "stream",
     "text": [
      "Number of existing documents in collection: 0\n",
      "👉 Adding new documents: 500\n"
     ]
    }
   ],
   "source": [
    "def calculate_chunk_ids(chunks):\n",
    "    chunks_with_id = []\n",
    "    for chunk in chunks:\n",
    "        # Calculate the chunk ID.\n",
    "        chunk_id = str(hash(chunk.page_content))\n",
    "        \n",
    "        # Add it to the page meta-data.\n",
    "        chunk.metadata[\"id\"] = chunk_id\n",
    "        chunks_with_id.append(chunk)\n",
    "\n",
    "    return chunks_with_id\n",
    "\n",
    "\n",
    "def add_to_chroma(chunks: list[Document]):\n",
    "    chunks_with_ids = calculate_chunk_ids(chunks)\n",
    "    \n",
    "    # Retrieve existing IDs from the collection\n",
    "    existing_items = collection.get(include=[])\n",
    "    existing_ids = set(existing_items[\"ids\"])\n",
    "    print(f\"Number of existing documents in collection: {len(existing_ids)}\")\n",
    "\n",
    "    # Prepare data for new documents\n",
    "    new_chunk_ids = []\n",
    "    new_documents = []\n",
    "    new_metadatas = []\n",
    "\n",
    "    for chunk in chunks_with_ids:\n",
    "        chunk_id = chunk.metadata[\"id\"]\n",
    "        if chunk_id not in existing_ids:\n",
    "            new_chunk_ids.append(chunk_id)\n",
    "            new_documents.append(chunk.page_content)\n",
    "            new_metadatas.append(chunk.metadata)\n",
    "\n",
    "    if new_chunk_ids:\n",
    "        print(f\"👉 Adding new documents: {len(new_chunk_ids)}\")\n",
    "        collection.add(\n",
    "            ids=new_chunk_ids,\n",
    "            documents=new_documents,\n",
    "            metadatas=new_metadatas\n",
    "        )\n",
    "    else:\n",
    "        print(\"✅ No new documents to add\")\n",
    "\n",
    "# Adjust this number if you want more data!\n",
    "how_many_documents_to_add = 500\n",
    "add_to_chroma(chunks[:how_many_documents_to_add])"
   ]
  },
  {
   "cell_type": "markdown",
   "metadata": {},
   "source": [
    "Now we're done with adding data to our vector database! Hooray! Let's return to the README for further instructions"
   ]
  },
  {
   "cell_type": "markdown",
   "metadata": {},
   "source": []
  }
 ],
 "metadata": {
  "kernelspec": {
   "display_name": ".venv",
   "language": "python",
   "name": "python3"
  },
  "language_info": {
   "codemirror_mode": {
    "name": "ipython",
    "version": 3
   },
   "file_extension": ".py",
   "mimetype": "text/x-python",
   "name": "python",
   "nbconvert_exporter": "python",
   "pygments_lexer": "ipython3",
   "version": "3.11.7"
  }
 },
 "nbformat": 4,
 "nbformat_minor": 2
}
